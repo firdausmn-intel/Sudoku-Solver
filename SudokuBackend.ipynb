{
 "cells": [
  {
   "cell_type": "markdown",
   "id": "4eda3eda-0cb2-4d24-ad36-c3a180ea2476",
   "metadata": {},
   "source": [
    "# Board Question"
   ]
  },
  {
   "cell_type": "markdown",
   "id": "12ff727a-ab66-4825-bb77-c82f15a73a74",
   "metadata": {},
   "source": [
    "Take any random sudoku"
   ]
  },
  {
   "cell_type": "code",
   "execution_count": 2,
   "id": "2ca88200-fee9-452f-b62e-656299ff56c0",
   "metadata": {},
   "outputs": [],
   "source": [
    "def board_quest():   \n",
    "\n",
    "    board_ques=[\n",
    "    [7,8,0,4,3,0,0,2,0],\n",
    "    [0,0,0,0,7,5,0,0,0],\n",
    "    [0,9,3,0,0,1,0,0,8],\n",
    "    [0,0,0,9,0,3,0,0,0],\n",
    "    [2,6,0,0,0,8,0,0,4],\n",
    "    [9,0,4,0,6,0,7,8,5],\n",
    "    [0,0,0,0,0,0,6,0,0],\n",
    "    [0,2,0,0,0,0,4,9,0],\n",
    "    [3,0,9,0,1,0,8,0,0],\n",
    "    ]\n",
    "    return board_ques"
   ]
  },
  {
   "cell_type": "code",
   "execution_count": 3,
   "id": "d0a7b4f0-f693-47f1-ad4e-ee36cd4a1f3a",
   "metadata": {},
   "outputs": [],
   "source": [
    "import random"
   ]
  },
  {
   "cell_type": "markdown",
   "id": "76267170-46db-4b18-9c4a-9b3452c850b6",
   "metadata": {},
   "source": [
    "# SudokuSolver Class"
   ]
  },
  {
   "cell_type": "markdown",
   "id": "f789fc39-52b1-4850-916d-909a0d4c0e39",
   "metadata": {},
   "source": [
    "The `SudokuSolver` class is responsible for solving a given Sudoku puzzle using the backtracking algorithm. It contains methods to find empty cells, validate the placement of numbers, and solve the puzzle."
   ]
  },
  {
   "cell_type": "markdown",
   "id": "1ddc1d7a-0607-4714-a871-07076c31591f",
   "metadata": {},
   "source": [
    "## find_empty Method"
   ]
  },
  {
   "cell_type": "markdown",
   "id": "cdb5740f-6257-4b94-8de0-2c8ee425ba65",
   "metadata": {},
   "source": [
    "This method searches for an empty cell in the Sudoku grid."
   ]
  },
  {
   "cell_type": "markdown",
   "id": "d63bb3ea-5a40-4303-bb6b-8a76dc206d2b",
   "metadata": {},
   "source": [
    "## valid Method"
   ]
  },
  {
   "cell_type": "markdown",
   "id": "c73e41c0-0c7e-4481-81be-d757a5b91f01",
   "metadata": {},
   "source": [
    "The `valid` method checks whether a given number can be placed at a specified position without violating Sudoku rules. It ensures that the number does not already exist in the same row, column, or 3x3 subgrid."
   ]
  },
  {
   "cell_type": "markdown",
   "id": "c5b6b03e-5287-429d-8f70-6d3c12aeff5c",
   "metadata": {},
   "source": [
    "## solve Method"
   ]
  },
  {
   "cell_type": "markdown",
   "id": "bd0e1299-06c5-4deb-8de1-5159ef5266c6",
   "metadata": {},
   "source": [
    "The `solve` method attempts to solve the Sudoku puzzle. It uses the backtracking algorithm, which involves placing numbers in empty cells and recursively checking if the current configuration leads to a solution. If a number placement does not lead to a solution, it backtracks and tries a different number."
   ]
  },
  {
   "cell_type": "code",
   "execution_count": 4,
   "id": "898a5b9e-0075-4a8f-838c-797fcd14581c",
   "metadata": {},
   "outputs": [],
   "source": [
    "# (This cell contains the SudokuSolver class code)\n",
    "class SudokuSolver:\n",
    "\n",
    "    def __init__(self,board):\n",
    "        self.board=board\n",
    "\n",
    "     # Find an empty box in the sudoku\n",
    "    def find_empty(self): \n",
    "        \"\"\"  \n",
    "        Used to find an empty box in the sudoku\n",
    "          Parameters:\n",
    "          i (int): Starting from 0 until 8 for row of the sudoku\n",
    "          j (int): Starting from 0 until 8 for column of the sudoku\n",
    "\n",
    "          Returns:\n",
    "          int: i and j\n",
    "          \n",
    "          If no empty box left means sudoku is completed, \n",
    "          return None\n",
    "          \"\"\"\n",
    "        for i in range(len(self.board)):\n",
    "            for j in range(len(self.board[i])):\n",
    "                if self.board[i][j]==0: #if box is empty\n",
    "                    return(i,j)\n",
    "                #if sudoku is completed\n",
    "        return None\n",
    "    \n",
    "    #Check if number conflicts with row/column/box\n",
    "    def valid(self, num, pos):\n",
    "        \"\"\"\n",
    "        Check if the inserted number is conflicting with the row, column and 3x3 box\n",
    "        Return True if no conflict\n",
    "        Return False if conflict\n",
    "        \"\"\"\n",
    "        #Check Row\n",
    "        for i in range(len(self.board[0])):\n",
    "            if self.board[pos[0]][i]==num and pos[1] !=i:#second condition is to not bother checking the box that we just add the number\n",
    "                return False   \n",
    "            \n",
    "        for i in range(len(self.board)):#Check column\n",
    "            if self.board[i][pos[1]] == num and pos[0] !=i: \n",
    "                 return False\n",
    "\n",
    "        #Check box (3x3)\n",
    "        box_i=pos[0]//3 #i \n",
    "        box_j=pos[1]//3 #j\n",
    "        \n",
    "        for i in range(box_i*3,box_i*3+3):\n",
    "             for j in range(box_j*3,box_j*3+3):\n",
    "                  if self.board[i][j] == num and (i,j) !=pos:\n",
    "                       return False\n",
    "        \n",
    "        return True\n",
    "    \n",
    "    def solve(self):\n",
    "        # Solve the sudoku using backtracking algorithm\n",
    "        find = self.find_empty()\n",
    "        if not find: #if sudoku is complete\n",
    "            return True\n",
    "        else:\n",
    "             row, col = find\n",
    "             for i in range(1,10):\n",
    "                if self.valid(i, (row,col)):\n",
    "                    self.board[row][col]=i\n",
    "                    if not self.solve():\n",
    "                        self.board[row][col]=0  #backtrack\n",
    "                    else:\n",
    "                         return True                          \n",
    "        return False"
   ]
  },
  {
   "cell_type": "markdown",
   "id": "9fd3f7d3-f4f3-43d0-8551-fe15fcc52c3a",
   "metadata": {},
   "source": [
    "# CreateSudoku Class"
   ]
  },
  {
   "cell_type": "markdown",
   "id": "b1f65365-a348-4b46-b9a7-047958a23b46",
   "metadata": {},
   "source": [
    "The `CreateSudoku` class is responsible for generating a new Sudoku puzzle by removing a specified number of cells from a solved board. It ensures that the initial configuration of the board is valid before proceeding to remove cells."
   ]
  },
  {
   "cell_type": "markdown",
   "id": "0ff0cb7f-9c54-4ab2-a2a6-cb3e89b0fa09",
   "metadata": {},
   "source": [
    "## board_create Method"
   ]
  },
  {
   "cell_type": "markdown",
   "id": "56b81017-730a-4a31-9cf8-2b26a264fb23",
   "metadata": {},
   "source": [
    "The `board_create` method first validates the initial board configuration and then solves the puzzle. After obtaining a solved puzzle, it removes a specified number of cells to create the final puzzle."
   ]
  },
  {
   "cell_type": "markdown",
   "id": "cb075273-89e1-4ef7-a490-6b673393504c",
   "metadata": {},
   "source": [
    "## remove_cells Method"
   ]
  },
  {
   "cell_type": "markdown",
   "id": "65469809-885b-475e-9933-b3215a9543d6",
   "metadata": {},
   "source": [
    "The `remove_cells` method randomly removes a specified number of cells from the Sudoku board, setting their values to zero. This creates the puzzle that the player will attempt to solve."
   ]
  },
  {
   "cell_type": "code",
   "execution_count": 5,
   "id": "ff97d278-cf53-450c-b8f9-567fd3bb00c7",
   "metadata": {},
   "outputs": [],
   "source": [
    "class CreateSudoku:\n",
    "    def __init__(self,board,REMOVE_CELLS_NO):\n",
    "        self.board=board\n",
    "        self.REMOVE_CELLS_NO=REMOVE_CELLS_NO\n",
    "\n",
    "    # Create a new sudoku puzzle by removing cells from a solved board\n",
    "    def board_create(self):  \n",
    "        sudoku_validate=ValidateSudoku(self.board)\n",
    "        \n",
    "        sudoku_solver=SudokuSolver(self.board)\n",
    "        if sudoku_validate.validate():\n",
    "            if sudoku_solver.solve():\n",
    "                 self.remove_cells(self.REMOVE_CELLS_NO)\n",
    "                 return self.board        \n",
    "        return False\n",
    "        \n",
    "    # Remove a specified number of cells from the board\n",
    "    def remove_cells(self, num_cells_to_remove):\n",
    "        # Get all possible cell coordinates and shuffle them\n",
    "        cells = [(i, j) for i in range(9) for j in range(9)] \n",
    "        # Select the desired number from them \n",
    "        k=num_cells_to_remove\n",
    "        for i, j in random.sample(cells,k):\n",
    "            self.board[i][j] = 0"
   ]
  },
  {
   "cell_type": "markdown",
   "id": "53a00f3c-ac43-48d3-a22f-3e706d7c86f0",
   "metadata": {},
   "source": [
    "# ValidateSudoku Class"
   ]
  },
  {
   "cell_type": "markdown",
   "id": "9ba39f63-155d-42d7-b846-539db735e544",
   "metadata": {},
   "source": [
    "The `ValidateSudoku` class is used to validate the initial configuration of a Sudoku puzzle. It checks whether the given board violates any Sudoku rules in its rows, columns, or 3x3 subgrids."
   ]
  },
  {
   "cell_type": "markdown",
   "id": "b4e83efa-f168-439f-bb66-627a6322e645",
   "metadata": {},
   "source": [
    "## validate Method"
   ]
  },
  {
   "cell_type": "markdown",
   "id": "e4c6a8f7-3cb1-4739-9fdb-ff704feee28b",
   "metadata": {},
   "source": [
    "The `validate` method uses the previous validation methods to check the entire Sudoku board. It ensures that all rows, columns, and 3x3 subgrids are valid according to Sudoku rules."
   ]
  },
  {
   "cell_type": "code",
   "execution_count": 6,
   "id": "8cc50cf4-8285-4630-8f68-9df76b452283",
   "metadata": {},
   "outputs": [],
   "source": [
    "class ValidateSudoku:\n",
    "    #to validate the sudoku prior to starting the game\n",
    "\n",
    "    def __init__(self,board):\n",
    "        self.board=board\n",
    "        \n",
    "    # Validate a row in the sudoku puzzle\n",
    "    def is_valid_row(self,row):\n",
    "        row_values = [self.board[row][col] for col in range(9) if self.board[row][col] != 0]\n",
    "        return len(row_values) == len(set(row_values))\n",
    "\n",
    "    # Validate a column in the sudoku puzzle\n",
    "    def is_valid_col(self, col):\n",
    "        col_values = [self.board[row][col] for row in range(9) if self.board[row][col] != 0]\n",
    "        return len(col_values) == len(set(col_values))\n",
    "\n",
    "    # Validate a 3x3 box in the sudoku puzzle\n",
    "    def is_valid_box(self, box_row, box_col):\n",
    "        box_values = []\n",
    "        for row in range(box_row * 3, box_row * 3 + 3):\n",
    "            for col in range(box_col * 3, box_col * 3 + 3):\n",
    "                cell_value = self.board[row][col]\n",
    "                if cell_value != 0:\n",
    "                    box_values.append(cell_value)\n",
    "        return len(box_values) == len(set(box_values))\n",
    "\n",
    "    # Validate the entire sudoku puzzle\n",
    "    def validate(self):\n",
    "        for i in range(len(self.board[0])):\n",
    "            if not self.is_valid_row(i):\n",
    "                return False\n",
    "            if not self.is_valid_col(i):\n",
    "                return False\n",
    "             \n",
    "            for i in range(3):\n",
    "                for j in range(3):\n",
    "                    if not self.is_valid_box(i,j):\n",
    "                        return False\n",
    "        return True"
   ]
  },
  {
   "cell_type": "markdown",
   "id": "2f2be199-2718-4374-a61f-3dc992582359",
   "metadata": {},
   "source": [
    "# SudokuDifficulty Class"
   ]
  },
  {
   "cell_type": "markdown",
   "id": "8cbd9285-2f6c-4613-8d94-e28cd2e4a9b0",
   "metadata": {},
   "source": [
    "The `SudokuDifficulty` class provides class-level constants that represent different difficulty levels for a Sudoku game. These constants determine the number of cells to remove from a completed Sudoku puzzle to create the starting puzzle for the player."
   ]
  },
  {
   "cell_type": "code",
   "execution_count": 7,
   "id": "4cedf326-f320-4bdc-a667-1378d77a40ae",
   "metadata": {},
   "outputs": [],
   "source": [
    "class SudokuDifficulty:\n",
    "    # Define class-level constants for difficulty levels\n",
    "    \n",
    "    @staticmethod\n",
    "    def EASY():\n",
    "        return 32\n",
    "        \n",
    "    @staticmethod\n",
    "    def MEDIUM():\n",
    "        return 42\n",
    "        \n",
    "    @staticmethod\n",
    "    def HARD():\n",
    "        return 50\n",
    "    \n",
    "    @staticmethod\n",
    "    def EXPERT():\n",
    "        return 61"
   ]
  }
 ],
 "metadata": {
  "kernelspec": {
   "display_name": "Python 3 (ipykernel)",
   "language": "python",
   "name": "python3"
  },
  "language_info": {
   "codemirror_mode": {
    "name": "ipython",
    "version": 3
   },
   "file_extension": ".py",
   "mimetype": "text/x-python",
   "name": "python",
   "nbconvert_exporter": "python",
   "pygments_lexer": "ipython3",
   "version": "3.11.1"
  }
 },
 "nbformat": 4,
 "nbformat_minor": 5
}
