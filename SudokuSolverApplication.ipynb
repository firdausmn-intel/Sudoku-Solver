{
 "cells": [
  {
   "cell_type": "markdown",
   "id": "5ed9a15f-2e7e-474e-9cb3-914c8553897e",
   "metadata": {},
   "source": [
    "This notebook contains the code for a simple Sudoku Solver application built using the Tkinter library in Python."
   ]
  },
  {
   "cell_type": "markdown",
   "id": "d4ea5a20-a184-4c95-bbaf-55ca374899bf",
   "metadata": {},
   "source": [
    "# Import needed Libraries"
   ]
  },
  {
   "cell_type": "markdown",
   "id": "704bd35b-28c6-4f55-ac12-b601dc5c1789",
   "metadata": {},
   "source": [
    "If you are importing ipynb file. Make sure to install nbimporter using command \"pip install nbimporter\" before using this nbimporter to import other module.\n",
    "Tkinter is used in this program for graphic user interface"
   ]
  },
  {
   "cell_type": "code",
   "execution_count": 25,
   "id": "4f557d58-95cd-419a-b751-388a6769c2e5",
   "metadata": {},
   "outputs": [],
   "source": [
    "import tkinter as tk\n",
    "from PIL import Image, ImageTk\n",
    "import random\n",
    "import time\n",
    "import nbimporter \n",
    "from SudokuBackend import SudokuSolver,CreateSudoku,ValidateSudoku,SudokuDifficulty,board_quest"
   ]
  },
  {
   "cell_type": "markdown",
   "id": "e849c29d-0443-40ef-a3d7-120c18dc6cd6",
   "metadata": {},
   "source": [
    "# User interface"
   ]
  },
  {
   "cell_type": "markdown",
   "id": "1e1e9d3e-5f54-4894-a3c0-73a1e72dd9b8",
   "metadata": {},
   "source": [
    "The user interface is created using Tkinter widgets. Below is the code that sets up the main window, labels, and other UI elements."
   ]
  },
  {
   "cell_type": "code",
   "execution_count": 26,
   "id": "871d70c6-36ed-4e43-99ed-08f49655436a",
   "metadata": {},
   "outputs": [],
   "source": [
    "root=tk.Tk()\n",
    "root.title(\"Sudoku Solver\")\n",
    "root.geometry(\"390x560\")\n",
    "root.configure(bg=\"white\")\n",
    "label = tk.Label(root, text=\"Fill in the numbers and click solve\",bg=\"white\")\n",
    "label.grid(row=0,column=1,columnspan=10)\n",
    "\n",
    "errLabel = tk.Label(root, text=\"\",fg=\"red\",bg=\"white\")\n",
    "errLabel.grid(row=15,column=5,rowspan=2,columnspan=10)\n",
    "\n",
    "solvedLabel = tk.Label(root, text=\"\",fg=\"green\",bg=\"white\")\n",
    "solvedLabel.grid(row=16,column=5,columnspan=10)\n",
    "\n",
    "hintLabel = tk.Label(root, text=\"\",fg=\"blue\",bg=\"white\")\n",
    "hintLabel.grid(row=15,column=1,columnspan=5)\n",
    "\n",
    "TimerLabel = tk.Label(root, text=\"Time: 00:00:00\",bg=\"white\")\n",
    "TimerLabel.grid(row=16,column=1,columnspan=5,pady=10)"
   ]
  },
  {
   "cell_type": "markdown",
   "id": "f19dd1f8-b50f-4760-9719-54e59938bc44",
   "metadata": {},
   "source": [
    "# Sudoku Solver Initialization"
   ]
  },
  {
   "cell_type": "markdown",
   "id": "d50445ea-8e8f-4598-bd8d-7ef76a275d5a",
   "metadata": {},
   "source": [
    "In this section, we initialize the core variables that will be used throughout the Sudoku solver application. These variables include the storage for the puzzle cells, the initial state of the puzzle, an undo stack for user actions, the difficulty level of the puzzle, and the variables required for the timer functionality."
   ]
  },
  {
   "cell_type": "markdown",
   "id": "b54bc309-94db-4cf1-9b6f-47699831c2a1",
   "metadata": {},
   "source": [
    "## Core Variables"
   ]
  },
  {
   "cell_type": "code",
   "execution_count": 27,
   "id": "f7b26292-c27c-4b72-a573-739c094886a0",
   "metadata": {},
   "outputs": [],
   "source": [
    "\n",
    "cells={} # A dictionary to store the current state of each cell in the Sudoku grid.\n",
    "initial_state={} # A dictionary to keep track of the initial values of the cells when the puzzle is first loaded or generated.\n",
    "undo_stack=[] # A list that functions as a stack to keep track of user actions for the undo feature.\n",
    "difficulty_level=None #Initiating difficulty level\n"
   ]
  },
  {
   "cell_type": "markdown",
   "id": "4d700b7c-9edd-4191-a3d2-757a433d5c3d",
   "metadata": {},
   "source": [
    "## Timer Variables"
   ]
  },
  {
   "cell_type": "code",
   "execution_count": 28,
   "id": "9ab6f39e-60fa-4132-b94a-9680d1c010a2",
   "metadata": {},
   "outputs": [],
   "source": [
    "# Variables to keep track of the timer\n",
    "start_time = None # A variable to store the starting time when the timer is activated.\n",
    "timer_running = False # A boolean flag to indicate whether the timer is currently running.\n"
   ]
  },
  {
   "cell_type": "markdown",
   "id": "cc02a31e-5eb9-4bb9-ac42-5ff53581a5ff",
   "metadata": {},
   "source": [
    "# Solving the Sudoku Puzzle"
   ]
  },
  {
   "cell_type": "markdown",
   "id": "99b2a11b-f397-40fe-aebc-aa4022e80590",
   "metadata": {},
   "source": [
    "## solve_gui Function"
   ]
  },
  {
   "cell_type": "markdown",
   "id": "ef8949d8-68cd-4660-8246-a593e928617c",
   "metadata": {},
   "source": [
    "The `solve_gui` function is triggered when the user requests to solve the puzzle. It performs the following steps:\n",
    "1. Retrieves the current values from the GUI board using the `getValues` function.\n",
    "2. Initializes a `SudokuSolver` object with the current board.\n",
    "3. Validates the initial Sudoku board using the `ValidateSudoku` class.\n",
    "4. If the board is valid, it attempts to solve the puzzle.\n",
    "5. Stops the timer if the puzzle is solved.\n",
    "6. Updates the GUI with the solved board using the `update_gui` function.\n",
    "7. Displays a success message to the user.\n",
    "8. If no solution is found or the board is invalid, an error message is displayed."
   ]
  },
  {
   "cell_type": "code",
   "execution_count": 29,
   "id": "1d25863a-a448-4408-bca4-ebd696294656",
   "metadata": {},
   "outputs": [],
   "source": [
    "def solve_gui():\n",
    "    board=getValues() # Retrieves the current values\n",
    "    sudoku_solver=SudokuSolver(board) # Initializes a SudokuSolver object\n",
    "    sudoku_validate=ValidateSudoku(board) # Validates the initial Sudoku\n",
    "    if sudoku_validate.validate():\n",
    "        if sudoku_solver.solve():\n",
    "            stop_timer()\n",
    "            update_gui(sudoku_solver.board)\n",
    "            solvedLabel.configure(text=\"Sudoku has been completed\")\n",
    "    else:\n",
    "        errLabel.configure(text=\"No solution\")"
   ]
  },
  {
   "cell_type": "markdown",
   "id": "a13f066a-17ec-4cba-ae82-f84fd7140496",
   "metadata": {},
   "source": [
    "## update_gui Function"
   ]
  },
  {
   "cell_type": "markdown",
   "id": "338100e8-e844-4bdb-92f3-0371ff1a01ea",
   "metadata": {},
   "source": [
    "The `update_gui` function takes the solved board as input and updates each cell in the GUI with the corresponding solution. It iterates over the board and:\n",
    "\n",
    "1. Accesses each cell in the `cells` dictionary by its grid coordinates.\n",
    "2. Clears the current value in the cell.\n",
    "3. Inserts the new value from the solved board.\n",
    "\n",
    "These functions work together to provide the core functionality of the Sudoku solver application, allowing users to quickly and easily find solutions to their puzzles."
   ]
  },
  {
   "cell_type": "code",
   "execution_count": 30,
   "id": "09c2e17a-20d2-4b8e-a200-247e3b45d341",
   "metadata": {},
   "outputs": [],
   "source": [
    "# Fill in the board with solutions\n",
    "def update_gui(board):\n",
    "    for i in range(len(board)):\n",
    "        for j in range (len(board[i])):\n",
    "            cell = cells[(i+2,j+1)]\n",
    "            cell.delete(0,\"end\")\n",
    "            cell.insert(0,str(board[i][j]))"
   ]
  },
  {
   "cell_type": "markdown",
   "id": "e535ce64-2464-4a62-a20f-061acc0cff3a",
   "metadata": {},
   "source": [
    "# Clearing the Sudoku Board"
   ]
  },
  {
   "cell_type": "markdown",
   "id": "019ed8ae-928b-4d27-983a-f11c7e529181",
   "metadata": {},
   "source": [
    "The `clearValues` function is designed to reset the Sudoku board to its initial state. It is typically called when the user wants to start over or clear their input. Here's what the function does:\n",
    "\n",
    "1. Clears the `undo_stack`, which is used to keep track of user actions for the undo feature.\n",
    "2. Resets the error and solved messages by clearing the text of `errLabel` and `solvedLabel`.\n",
    "3. Iterates over each cell in the grid:\n",
    "   - Retrieves the cell widget from the `cells` dictionary using its grid coordinates.\n",
    "   - Checks if the current value of the cell differs from the `initial_state` value.\n",
    "   - If the cell was modified by the user, it clears the cell's content and resets the text color to black.\n",
    "   - Re-enables validation for the cell to ensure that only valid numbers can be entered after clearing."
   ]
  },
  {
   "cell_type": "code",
   "execution_count": 31,
   "id": "40ef8321-45da-4d76-b95f-d4fda99db28c",
   "metadata": {},
   "outputs": [],
   "source": [
    "def clearValues():\n",
    "    global undo_stack\n",
    "    undo_stack.clear()\n",
    "    errLabel.configure(text=\"\")\n",
    "    solvedLabel.configure(text=\"\")\n",
    "    for row in range(2,11):\n",
    "        for col in range(1,10):\n",
    "            cell=cells[(row,col)]\n",
    "            if cell.get() != initial_state[(row, col)]:  # Check if the cell was modified by the user\n",
    "                cell.delete(0,'end')\n",
    "                cell.config(fg=\"blue\")\n",
    "                cell.config(validate=\"key\", validatecommand=(reg, \"%P\", str(row), str(col))) # Run ValidateNumber function after clear\n"
   ]
  },
  {
   "cell_type": "markdown",
   "id": "6d021a1c-4741-4e38-bb3d-108bd13dc371",
   "metadata": {},
   "source": [
    "#  Starting a New Sudoku Game"
   ]
  },
  {
   "cell_type": "markdown",
   "id": "77c43cb6-083f-4668-b313-0d451d22e709",
   "metadata": {},
   "source": [
    "\n",
    "The `newgame` function is responsible for initializing a new game session. It sets up the board and prepares the game according to the selected difficulty level. Here's a breakdown of the steps performed by this function:\n",
    "\n",
    "1. Stops the current timer.\n",
    "2. Enables any disabled buttons on the UI using the `button_enabled` function.\n",
    "3. Draws a fresh 9x9 Sudoku grid with the `draw9x9Grid` function.\n",
    "4. Enables all cells for user input.\n",
    "5. Clears any existing values and resets the text color to black for all cells.\n",
    "6. Generates a new Sudoku puzzle board with the `board_quest` function, which is then passed to the `CreateSudoku` class along with the current `difficulty_level`.\n",
    "7. Calls the `board_create` method of the `CreateSudoku` instance to create a new board.\n",
    "8. If a valid board is generated, populates the grid with the new puzzle using the `populateGridWithBoard` function.\n",
    "9. If the board is invalid, displays an error message using `errLabel`.\n",
    "\n",
    "This function is triggered when the user selects to start a new game, ensuring a smooth transition and a clear board ready for a new challenge."
   ]
  },
  {
   "cell_type": "code",
   "execution_count": 32,
   "id": "967fd8ce-735d-415b-ae52-cda9ff168d04",
   "metadata": {},
   "outputs": [],
   "source": [
    "def newgame():\n",
    "    errLabel.config(text=\"\")\n",
    "    solvedLabel.config(text=\"\")\n",
    "    hintLabel.config(text=\"\")\n",
    "    stop_timer()\n",
    "    button_enabled()\n",
    "    draw9x9Grid()\n",
    "    enable_all_cells()\n",
    "    for cell in cells.values():\n",
    "        cell.config(fg=\"black\")\n",
    "        cell.delete(0,'end')\n",
    "    board_q=board_quest()\n",
    "    sudoku_create=CreateSudoku(board_q,difficulty_level)\n",
    "    board=sudoku_create.board_create()\n",
    "    if board:\n",
    "        populateGridWithBoard(board)    \n",
    "    else:\n",
    "        errLabel.config(text=\"Sudoku is invalid!\")\n",
    "        button_disabled()\n",
    "        readonly_all_cells()\n",
    "        buttons=[btn_newgame, btneasy, btnmedium, btnhard]\n",
    "        for button in buttons:\n",
    "            button.config(state='disabled')"
   ]
  },
  {
   "cell_type": "markdown",
   "id": "cef1b145-0a71-466a-8032-92f07e125dbf",
   "metadata": {},
   "source": [
    "# Undo Functionality"
   ]
  },
  {
   "cell_type": "markdown",
   "id": "dbf67b9f-5018-4b02-b7cb-a18fffab677b",
   "metadata": {},
   "source": [
    "The `undo` function enables players to revert their last move. It works by popping the last action from the `undo_stack`, which records each move's row, column, previous value, and color. The function then updates the corresponding cell with the previous value and color. If the cell was part of the initial puzzle, it is set back to read-only; otherwise, it is made editable. This feature is essential for providing a user-friendly experience, allowing mistakes to be easily corrected."
   ]
  },
  {
   "cell_type": "code",
   "execution_count": 33,
   "id": "629d12b4-8737-4566-b643-f11353d5ff94",
   "metadata": {},
   "outputs": [],
   "source": [
    "def undo():\n",
    "    if undo_stack:\n",
    "        row, col, previous_value, previous_color = undo_stack.pop()\n",
    "        cell = cells[(row, col)]\n",
    "        cell.delete(0, 'end')\n",
    "        if previous_value: \n",
    "            cell.insert(0, previous_value) # If there was a previous value, insert it back\n",
    "            cell.config(fg=previous_color) # Restore the previous color\n",
    "\n",
    "        # If the cell is part of the initial puzzle, make it read-only again\n",
    "        if initial_state.get((row, col)) != \"\":\n",
    "            cell.config(state='readonly')\n",
    "        else:\n",
    "            cell.config(state='normal')\n",
    "        cell.config(validate=\"key\", validatecommand=(reg, \"%P\", str(row), str(col)))\n",
    "\n"
   ]
  },
  {
   "cell_type": "markdown",
   "id": "bf8acf69-6acb-4b8e-b104-1233cdf6328a",
   "metadata": {},
   "source": [
    "# Providing Hints"
   ]
  },
  {
   "cell_type": "code",
   "execution_count": 34,
   "id": "81f84380-edb6-4f57-a53a-1f8fde8fdda7",
   "metadata": {},
   "outputs": [],
   "source": [
    "def hint():\n",
    "    board = getValues()  # Retrieves the current values\n",
    "    sudoku_solver = SudokuSolver(board)  # Initializes a SudokuSolver object\n",
    "    sudoku_validate = ValidateSudoku(board)  # Validates the initial Sudoku\n",
    "    if sudoku_validate.validate():\n",
    "        empty_cells = [(i, j) for i in range(9) for j in range(9) if board[i][j] == 0]\n",
    "        if empty_cells:  # Check if there are any empty cells left\n",
    "            sudoku_solver.solve()\n",
    "            row, col = random.choice(empty_cells)  # Choose a random empty cell\n",
    "            hint_value = sudoku_solver.board[row][col]  # Get the value from the solved board\n",
    "            cells[(row+2, col+1)].delete(0, 'end')  # Adjusting indices to match the grid layout\n",
    "            cells[(row+2, col+1)].insert(0, str(hint_value))  # Insert the hint value\n",
    "            cells[(row+2, col+1)].config(fg=\"blue\")  # Optional: change the color to indicate a hint\n",
    "            cells[(row+2, col+1)].config(state=\"readonly\")  # Make the cell read-only\n",
    "            max_hint()  # Update the hint count\n",
    "            max_correct()  # Check if the puzzle is completed\n",
    "    else:\n",
    "        errLabel.configure(text=\"No solution\")"
   ]
  },
  {
   "cell_type": "markdown",
   "id": "a8bd39c6-5cf7-4fe9-8c7a-32dc94e5d2f7",
   "metadata": {},
   "source": [
    "# Timer"
   ]
  },
  {
   "cell_type": "markdown",
   "id": "bd47a135-b800-4cce-9b33-e9de5a6f94d4",
   "metadata": {},
   "source": [
    "The Sudoku game includes a timer to track how long the player has been solving the current puzzle. The following functions manage the timer:\n",
    "\n",
    "- `update_timer`: This function updates the timer label every second with the elapsed time since the timer started. It formats the time into hours, minutes, and seconds and schedules itself to be called again after 1 second if the timer is running.\n",
    "\n",
    "- `start_timer`: This function starts the timer by recording the current time as the start time and setting the `timer_running` flag to `True`. It then calls `update_timer` to initiate the timer updates.\n",
    "\n",
    "- `stop_timer`: This function stops the timer by setting the `timer_running` flag to `False`.\n",
    "\n",
    "These functions work together to provide a real-time timer display that enhances the gameplay experience by allowing players to track their progress.\n"
   ]
  },
  {
   "cell_type": "code",
   "execution_count": 35,
   "id": "3216eeee-7ae8-455d-b333-35dfcff97ca1",
   "metadata": {},
   "outputs": [],
   "source": [
    "def update_timer():\n",
    "    if timer_running:\n",
    "        # Calculate the elapsed time\n",
    "        elapsed_time = time.time() - start_time\n",
    "        # Convert the elapsed time into hours, minutes, and seconds\n",
    "        hours, remainder = divmod(elapsed_time, 3600)\n",
    "        minutes, seconds = divmod(remainder, 60)\n",
    "        # Update the timer label\n",
    "        TimerLabel.config(text=\"Time: {:02}:{:02}:{:02}\".format(int(hours), int(minutes), int(seconds)))\n",
    "        # Schedule the update_timer function to be called after 1000ms (1 second)\n",
    "        root.after(1000, update_timer)\n",
    "\n",
    "def start_timer():\n",
    "    global start_time, timer_running\n",
    "    if not timer_running:\n",
    "        # Record the start time and set the timer to running\n",
    "        start_time = time.time()\n",
    "        timer_running = True\n",
    "        update_timer()\n",
    "\n",
    "def stop_timer():\n",
    "    global timer_running\n",
    "    timer_running = False"
   ]
  },
  {
   "cell_type": "markdown",
   "id": "b97d7dfd-b8d8-4f31-b437-dc908b06ee0c",
   "metadata": {},
   "source": [
    "# Draw colorful grid"
   ]
  },
  {
   "cell_type": "code",
   "execution_count": 36,
   "id": "3239adee-42a1-493f-9851-be68380c4c0f",
   "metadata": {},
   "outputs": [],
   "source": [
    "def draw3x3Grid(row, column, bgcolor):\n",
    "    for i in range(3):\n",
    "        for j in range(3):\n",
    "            grid_row = row + i + 1\n",
    "            grid_col = column + j + 1\n",
    "            sv=tk.StringVar()\n",
    "\n",
    "            e = tk.Entry(root, width=5, bg=bgcolor, justify='center',\n",
    "                      validate=\"key\", validatecommand=(reg, \"%P\", str(grid_row), str(grid_col)))\n",
    "            e.grid(row=grid_row, column=grid_col, sticky=\"nsew\", padx=1, pady=1, ipady=5) #users can enter their answer\n",
    "            e.bind('<Key>', lambda event, r=grid_row, c=grid_col: key_pressed(event,r,c)) #trigger key_pressed function anytime a key in keyboard is pressed inside the box\n",
    "            cells[(grid_row, grid_col)] = e\n",
    "            \n",
    "def draw9x9Grid():\n",
    "    color=\"#D0ffff\"\n",
    "    for rowNo in range(1,10,3):\n",
    "        for colNo in range(0,9,3):            \n",
    "            draw3x3Grid(rowNo,colNo,color)\n",
    "            if color ==\"#D0ffff\": #light cyan color\n",
    "                 color=\"#ffffd0\" #light yellow color\n",
    "            else:\n",
    "                color=\"#D0ffff\""
   ]
  },
  {
   "cell_type": "markdown",
   "id": "92a581e2-561e-43e3-9cd8-8430ecc07cba",
   "metadata": {},
   "source": [
    "Validate user's entry"
   ]
  },
  {
   "cell_type": "code",
   "execution_count": 37,
   "id": "af21e9f4-b2e3-4875-8175-b50e3baacda0",
   "metadata": {},
   "outputs": [],
   "source": [
    "def ValidateNumber(P, row, col):\n",
    "    row = int(row)  # Convert row to an integer\n",
    "    col = int(col)  # Convert col to an integer\n",
    "  \n",
    "    # Adjust the row and col to match the board's indexing (0-based)\n",
    "    board_row = row - 2\n",
    "    board_col = col - 1\n",
    "    # If the cell is cleared, reset the text color and allow the change\n",
    "    if P == \"\":\n",
    "        undo_stack.append((row, col, cells[(row, col)].get(), cells[((row, col))].cget('fg')))\n",
    "        cells[((row, col))].delete(0,'end')\n",
    "        cells[(row, col)].config(fg=\"black\")\n",
    "        return True\n",
    "    \n",
    "    # If the input is a single digit, check if it's valid\n",
    "    if P.isdigit() and len(P) == 1:\n",
    "        start_timer()\n",
    "        num = int(P)\n",
    "        undo_stack.append((row, col, cells[(row, col)].get(), cells[((row, col))].cget('fg')))\n",
    "        # Temporarily set the cell to 0 to avoid conflict with itself during validation\n",
    "        cells[(row, col)].delete(0, \"end\")\n",
    "        cells[(row, col)].insert(0, \"0\")\n",
    "        \n",
    "        # Get the current state of the board\n",
    "        board = getValues()\n",
    "        sudoku_solver=SudokuSolver(board)\n",
    "        # Restore the cell's value\n",
    "        cells[(row, col)].delete(0, \"end\")\n",
    "        cells[(row, col)].insert(0, P)\n",
    "        \n",
    "        # Check if the number is valid in the current board state\n",
    "        if sudoku_solver.valid(num, (board_row, board_col)):\n",
    "            cells[(row, col)].config(fg=\"green\")\n",
    "            max_correct()\n",
    "            max_mistakes()\n",
    "            max_hint()\n",
    "            return True  # Allow the change\n",
    "        else:\n",
    "            cells[(row, col)].config(fg=\"red\")\n",
    "            max_mistakes()\n",
    "            max_hint()\n",
    "            return True\n",
    "            \n",
    "    else:\n",
    "        # If the input is not a single digit, reject the change\n",
    "        return False\n",
    "\n",
    "reg=root.register(ValidateNumber)\n",
    "\n",
    "def key_pressed(event,row,col):\n",
    "    if event.keysym == \"BackSpace\" or \"Delete\":\n",
    "        current_value=cells[(row,col)].get()\n",
    "        current_color = cells[(row, col)].cget('fg') #get current color whether red or green\n",
    "        # If the cell is about to be cleared, reset the text color and push to undo stack\n",
    "        if len(current_value)==1:\n",
    "            undo_stack.append((row,col,current_value,current_color))   \n",
    "    cells[(row,col)].config(validate=\"key\", validatecommand=(reg, \"%P\", str(row), str(col))) # Run ValidateNumber function after clear\n",
    "\n",
    "def on_value_change(sv, row, col):\n",
    "    value = sv.get()\n",
    "    ValidateNumber(value, row, col)\n",
    "\n",
    "def getValues():\n",
    "    board=[]\n",
    "    errLabel.configure(text=\"\")\n",
    "    solvedLabel.configure(text=\"\")\n",
    "    for row in range(2,11):\n",
    "        rows=[]\n",
    "        for col in range(1,10):\n",
    "            val = cells[(row,col)].get()\n",
    "            if val==\"\":\n",
    "                rows.append(0)\n",
    "            else:\n",
    "                rows.append(int(val))\n",
    "        board.append(rows)\n",
    "    return board"
   ]
  },
  {
   "cell_type": "markdown",
   "id": "a466666e-3aad-4fdc-b04a-b8f856606cc6",
   "metadata": {},
   "source": [
    "# Count valid/invalid numbers"
   ]
  },
  {
   "cell_type": "markdown",
   "id": "bb4f5302-ed14-4a63-a5d6-15c2fad68c92",
   "metadata": {},
   "source": [
    "The Sudoku solver includes functionality to count the number of valid and invalid numbers entered by the player. This can be useful for providing feedback or for implementing game rules that depend on the number of mistakes.\n",
    "\n",
    "- `count_valid_numbers`: This function iterates through all the cells in the Sudoku grid and counts how many numbers are marked as valid (with a green foreground color). It returns the total count of valid numbers.\n",
    "\n",
    "- `count_invalid_numbers`: Similarly, this function iterates through all the cells and counts how many numbers are marked as invalid (with a red foreground color). It returns the total count of invalid numbers.\n",
    "\n",
    "These functions help in monitoring the player's progress and can be used to trigger specific actions based on the game's state."
   ]
  },
  {
   "cell_type": "code",
   "execution_count": 38,
   "id": "af662e4e-4365-4147-8e8d-e93a1e33ffec",
   "metadata": {},
   "outputs": [],
   "source": [
    "# Check how many valid numbers\n",
    "def count_valid_numbers():\n",
    "    count = 0\n",
    "    for cell in cells.values():\n",
    "        if cell.cget('fg') == 'green':\n",
    "            count += 1\n",
    "    return count\n",
    "\n",
    "# Check how many invalid numbers\n",
    "def count_invalid_numbers():\n",
    "    count=0\n",
    "    for cell in cells.values():\n",
    "        if cell.cget('fg') == 'red':\n",
    "            count += 1\n",
    "    return count"
   ]
  },
  {
   "cell_type": "markdown",
   "id": "3f5fb365-bed0-4ab6-8a95-f44817478c99",
   "metadata": {},
   "source": [
    "## Count Hint Numbers"
   ]
  },
  {
   "cell_type": "code",
   "execution_count": 39,
   "id": "63288e3d-cd46-492e-8571-063c5dd75edf",
   "metadata": {},
   "outputs": [],
   "source": [
    "# Check how many hint\n",
    "def count_hint_numbers():\n",
    "    count = 0\n",
    "    for cell in cells.values():\n",
    "        if cell.cget('fg') == 'blue':\n",
    "            count += 1\n",
    "    return count"
   ]
  },
  {
   "cell_type": "markdown",
   "id": "fbf4d127-3ea0-41fb-8b19-0e76afeba582",
   "metadata": {},
   "source": [
    "## Completion Check Function"
   ]
  },
  {
   "cell_type": "markdown",
   "id": "bb984b4a-e674-44ec-820b-aea5d43a6904",
   "metadata": {},
   "source": [
    "- Calls `count_valid_numbers` to get the current count of valid numbers entered by the player.\n",
    "- Compares the count of valid numbers to the `difficulty_level` to check for completion.\n",
    "- If the number of valid numbers matches the difficulty level, it updates the `solvedLabel` with a congratulatory message, stops the timer, disables the buttons, and makes all cells read-only.\n",
    "- This function is crucial for providing a satisfying end to the game and for ensuring that the player receives appropriate feedback upon completion.\n",
    "\n",
    "The function relies on the assumption that the `difficulty_level` corresponds to the total number of cells that need to be filled in correctly to consider the puzzle solved."
   ]
  },
  {
   "cell_type": "code",
   "execution_count": 40,
   "id": "ca5c4d46-56d8-455c-81d9-73473da9a90a",
   "metadata": {},
   "outputs": [],
   "source": [
    "def max_correct(): \n",
    "    # Update the valid number count if needed\n",
    "    valid_count = count_valid_numbers()\n",
    "    hint_count = count_hint_numbers()\n",
    "    difficulty_new_level=difficulty_level-hint_count\n",
    "    if valid_count==difficulty_new_level:\n",
    "        solvedLabel.config(text=\"Congratulations! \\nYou have completed the sudoku.\")\n",
    "        stop_timer()\n",
    "        button_disabled()\n",
    "        readonly_all_cells()"
   ]
  },
  {
   "cell_type": "markdown",
   "id": "b2649208-6700-464d-afae-43cce56e022a",
   "metadata": {},
   "source": [
    "## Allowable Mistake Limit Function"
   ]
  },
  {
   "cell_type": "markdown",
   "id": "b8698810-a234-4b4e-9bf1-91c288b76c9d",
   "metadata": {},
   "source": [
    "Only allow user to make mistakes up to 3.\n",
    "\n",
    "The `max_mistakes` function is responsible for tracking the number of mistakes made by the player and providing feedback based on the count of invalid numbers:\n",
    "\n",
    "- Calls `count_invalid_numbers` to get the current count of invalid numbers (marked with a red foreground color).\n",
    "- If the number of mistakes is between 1 and 2, it updates the `errLabel` with the current mistake count.\n",
    "- If the number of mistakes reaches 3 or more, it updates the `errLabel` with a message indicating that the maximum number of mistakes has been reached and prompts the player to start a new game.\n",
    "- Additionally, when the mistake limit is reached, it disables all cells and buttons to prevent further input.\n",
    "- The function returns the current count of invalid numbers.\n",
    "\n",
    "This function enhances the game by setting a limit on the number of allowable mistakes, thus adding an extra layer of challenge for the player."
   ]
  },
  {
   "cell_type": "code",
   "execution_count": 41,
   "id": "aded93e2-f1e3-48aa-9a17-a447df6444bf",
   "metadata": {},
   "outputs": [],
   "source": [
    "def max_mistakes(): \n",
    "     # Update the invalid number count if needed\n",
    "    invalid_count = count_invalid_numbers()    \n",
    "    if 0<invalid_count<3:\n",
    "        errLabel.config(text=f\"Mistakes: {invalid_count}\")\n",
    "    elif invalid_count>=3:\n",
    "        errLabel.config(text=f\"Oops! \\nMax mistakes: {invalid_count}\")\n",
    "        readonly_all_cells()\n",
    "        button_disabled()\n",
    "        stop_timer()\n",
    "    return invalid_count"
   ]
  },
  {
   "cell_type": "markdown",
   "id": "5f9c4c15-48bb-4052-831f-a954079b409c",
   "metadata": {},
   "source": [
    "## Hint Limitation"
   ]
  },
  {
   "cell_type": "markdown",
   "id": "03d9fd01-8a62-4523-bbcc-1a6f512b0b8a",
   "metadata": {},
   "source": [
    "The `max_hint` function is responsible for tracking the number of hints used by the player and updating the hint status label accordingly. It also disables the hint button if the maximum number of hints has been reached."
   ]
  },
  {
   "cell_type": "code",
   "execution_count": 42,
   "id": "d029fcc8-01fb-43fb-93dd-5b639f5e35bd",
   "metadata": {},
   "outputs": [],
   "source": [
    "def max_hint():\n",
    "    hint_count=count_hint_numbers() # Get the current count of hints used\n",
    "    hint_left=3-hint_count # Calculate the number of hints left\n",
    "    if hint_count==3:\n",
    "        hintLabel.config(text=f\"You have used max hints: {hint_count}\") # Update the hint label\n",
    "        btnhint.config(state=\"disabled\") # Disable the hint button\n",
    "    else:\n",
    "        hintLabel.config(text=f\"Hints left: {hint_left}\") # Update the hint label with hints left"
   ]
  },
  {
   "cell_type": "markdown",
   "id": "3fdc490c-6e1f-4fb8-a171-a71678b4a76c",
   "metadata": {},
   "source": [
    "## Button and Cell State Management"
   ]
  },
  {
   "cell_type": "markdown",
   "id": "07dc60dc-e8f1-4821-b8b6-94e467d0bdc2",
   "metadata": {},
   "source": [
    "The following functions are used to control the interactivity of the Sudoku solver's buttons and cell entry fields, enabling or disabling them as needed based on the game's state."
   ]
  },
  {
   "cell_type": "markdown",
   "id": "55ad39ea-a433-4681-9287-f7108d4c6805",
   "metadata": {},
   "source": [
    "### Button State Functions"
   ]
  },
  {
   "cell_type": "markdown",
   "id": "fdce1251-c5eb-43a3-be54-f77b0794ee03",
   "metadata": {},
   "source": [
    "\n",
    "- `button_enabled`: This function enables a predefined list of buttons (`btnsolve`, `btnclear`, `btn_undo`) by setting their state to \"normal\". This allows the user to interact with the buttons when the game is in a state where their functionality is required.\n",
    "\n",
    "- `button_disabled`: Conversely, this function disables the same list of buttons by setting their state to \"disabled\". This is used to prevent user interaction with the buttons during certain conditions, such as when the maximum number of mistakes has been reached or the puzzle is solved."
   ]
  },
  {
   "cell_type": "code",
   "execution_count": 43,
   "id": "76acb95d-f0e6-4790-b32c-3f143a8c8ec4",
   "metadata": {},
   "outputs": [],
   "source": [
    "# Button enabled\n",
    "def button_enabled():\n",
    "    buttons = [btnsolve,btnclear,btn_undo,btnhint]\n",
    "    for button in buttons:\n",
    "        button.config(state=\"normal\")\n",
    "\n",
    "# Button disabled\n",
    "def button_disabled():\n",
    "    buttons = [btnsolve,btnclear,btn_undo,btnhint]\n",
    "    for button in buttons:\n",
    "        button.config(state=\"disabled\")"
   ]
  },
  {
   "cell_type": "markdown",
   "id": "7aa6b698-224f-48a5-9122-85dbc2d9c7c8",
   "metadata": {},
   "source": [
    "### Cell Entry State Functions"
   ]
  },
  {
   "cell_type": "markdown",
   "id": "8217368c-53dd-4014-86dd-85a551351eb9",
   "metadata": {},
   "source": [
    "- `enable_all_cells`: This function sets the state of all cell entry widgets in the `cells` dictionary to 'normal', allowing the user to enter numbers into the cells.\n",
    "\n",
    "- `readonly_all_cells`: This function sets the state of all cell entry widgets to 'readonly', preventing any further input by setting the cells to read-only."
   ]
  },
  {
   "cell_type": "code",
   "execution_count": 44,
   "id": "82758bb1-6862-4297-b309-203c7733c3b0",
   "metadata": {},
   "outputs": [],
   "source": [
    "# Enable user to enter any number\n",
    "def enable_all_cells():\n",
    "    for cell in cells.values():\n",
    "        cell.config(state='normal')\n",
    "        \n",
    "# Disable user from entering any number\n",
    "def readonly_all_cells():\n",
    "    for cell in cells.values():\n",
    "        cell.config(state='readonly')"
   ]
  },
  {
   "cell_type": "markdown",
   "id": "0dd02e4d-4189-4f87-94da-2e90475992f6",
   "metadata": {},
   "source": [
    "## Populating the Sudoku Grid"
   ]
  },
  {
   "cell_type": "code",
   "execution_count": 45,
   "id": "ae7155a2-7a51-4617-ad74-acbfe0fa0b2b",
   "metadata": {},
   "outputs": [],
   "source": [
    "def populateGridWithBoard(board):\n",
    "    global initial_state\n",
    "    initial_state.clear()\n",
    "    for i, row in enumerate(board):\n",
    "        for j, num in enumerate(row):\n",
    "            cell = cells[(i+2, j+1)]  # Adjusting indices to match the grid layout\n",
    "            if num != 0:\n",
    "                cell.insert(0, str(num))\n",
    "                cell.config(fg=\"purple\")\n",
    "                cell.config(state='readonly') # Make the cell read-only\n",
    "                \n",
    "                initial_state[(i+2, j+1)] = str(num)  # Store the initial number\n",
    "            else: \n",
    "                initial_state[(i+2,j+1)]=\"\""
   ]
  },
  {
   "cell_type": "markdown",
   "id": "b5e79eaa-80a1-4521-a267-a8da6592f219",
   "metadata": {},
   "source": [
    "## Difficulty Level"
   ]
  },
  {
   "cell_type": "code",
   "execution_count": 46,
   "id": "be5acd6c-f961-42c7-9190-b8319a03060e",
   "metadata": {},
   "outputs": [],
   "source": [
    "def easy():\n",
    "    global difficulty_level\n",
    "    difficulty_level=SudokuDifficulty.EASY()\n",
    "    newgame()\n",
    "\n",
    "def medium():\n",
    "    global difficulty_level\n",
    "    difficulty_level=SudokuDifficulty.MEDIUM()\n",
    "    newgame()\n",
    "\n",
    "def hard():\n",
    "    global difficulty_level\n",
    "    difficulty_level=SudokuDifficulty.HARD()\n",
    "    newgame()\n",
    "\n",
    "def expert():\n",
    "    global difficulty_level\n",
    "    difficulty_level=SudokuDifficulty.EXPERT()\n",
    "    newgame()"
   ]
  },
  {
   "cell_type": "markdown",
   "id": "28747f30-63fc-4ab5-b738-8f1ddbd2a373",
   "metadata": {},
   "source": [
    "## Interactive Buttons for Sudoku Solver"
   ]
  },
  {
   "cell_type": "markdown",
   "id": "98164916-9d42-489e-b3a6-669fe9817dfb",
   "metadata": {},
   "source": [
    "These buttons are essential for a user-friendly experience, offering intuitive controls for the game's main features."
   ]
  },
  {
   "cell_type": "code",
   "execution_count": 47,
   "id": "31128e33-6dbf-40b8-afe1-d5659828921e",
   "metadata": {},
   "outputs": [],
   "source": [
    "# New game button\n",
    "btn_newgame = tk.Button(root,command=newgame,text=\"New Game\",fg='white',background='black')\n",
    "btn_newgame.grid(row=1,column=1,columnspan=5,pady=20)\n",
    "\n",
    "# Solve button\n",
    "btnsolve=tk.Button(root,command=solve_gui,text=\"Solve\",fg='white',background='black')\n",
    "btnsolve.grid(row=1,column=5,columnspan=5,pady=20)\n",
    "\n",
    "# Load the original image using Pillow\n",
    "ori_image = Image.open(\"undo.png\")\n",
    "resize_image = ori_image.resize((30, 30), Image.Resampling.LANCZOS)\n",
    "undo_image = ImageTk.PhotoImage(resize_image)\n",
    "\n",
    "# Undo button\n",
    "btn_undo = tk.Button(root, command=undo, image=undo_image,padx=0, pady=0, borderwidth=0,background='pink')\n",
    "btn_undo.grid(row=17, column=1, columnspan=5)\n",
    "btn_undo.image = undo_image\n",
    "\n",
    "# Clear button\n",
    "btnclear=tk.Button(root,command=clearValues,text=\"Clear\",fg='white',background='#DC3545') # Bootstrap danger red\n",
    "btnclear.grid(row=17,column=3,columnspan=5)\n",
    "\n",
    "# Load the original image using Pillow\n",
    "original_image = Image.open(\"bulb_icon.png\")\n",
    "resized_image = original_image.resize((30, 30), Image.Resampling.LANCZOS)\n",
    "bulb_image = ImageTk.PhotoImage(resized_image)\n",
    "\n",
    "# Hint button\n",
    "btnhint = tk.Button(root, command=hint, image=bulb_image,padx=0, pady=0, borderwidth=0,background='deepskyblue')\n",
    "btnhint.grid(row=17, column=5, columnspan=5)\n",
    "btnhint.image = bulb_image\n",
    "\n",
    "# Easy button\n",
    "btneasy=tk.Button(root,command=easy,text=\"EASY\",fg='white',background='deepskyblue')\n",
    "btneasy.grid(row=18,column=0,columnspan=3,pady=10)\n",
    "\n",
    "# Medium button\n",
    "btnmedium=tk.Button(root,command=medium,text=\"MEDIUM\",fg='white',background='dodgerblue')\n",
    "btnmedium.grid(row=18,column=3,columnspan=3)\n",
    "\n",
    "# Hard button\n",
    "btnhard=tk.Button(root,command=hard,text=\"HARD\",fg='white',background='royalblue')\n",
    "btnhard.grid(row=18,column=6,columnspan=2)\n",
    "\n",
    "# Expert button\n",
    "btnexpert=tk.Button(root,command=expert,text=\"EXPERT\",fg='white',background='navy')\n",
    "btnexpert.grid(row=18,column=8,columnspan=3)"
   ]
  },
  {
   "cell_type": "markdown",
   "id": "aa3f975a-2eda-4bd7-948b-2051fdc0742b",
   "metadata": {},
   "source": [
    "## Starting the Sudoku Game"
   ]
  },
  {
   "cell_type": "code",
   "execution_count": null,
   "id": "63a7c3b4-21b2-4a81-b516-24798bc49973",
   "metadata": {},
   "outputs": [],
   "source": [
    "difficulty_level=5 # Set the difficulty level of the Sudoku game\n",
    "newgame() # Initialize a new game with the set difficulty level\n",
    "root.mainloop() # Start the Tkinter main event loop"
   ]
  }
 ],
 "metadata": {
  "kernelspec": {
   "display_name": "Python 3 (ipykernel)",
   "language": "python",
   "name": "python3"
  },
  "language_info": {
   "codemirror_mode": {
    "name": "ipython",
    "version": 3
   },
   "file_extension": ".py",
   "mimetype": "text/x-python",
   "name": "python",
   "nbconvert_exporter": "python",
   "pygments_lexer": "ipython3",
   "version": "3.11.1"
  }
 },
 "nbformat": 4,
 "nbformat_minor": 5
}
